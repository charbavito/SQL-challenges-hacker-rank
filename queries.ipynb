{
 "cells": [
  {
   "cell_type": "markdown",
   "metadata": {},
   "source": [
    "<img src='./images/readme-image.png'>"
   ]
  },
  {
   "cell_type": "markdown",
   "metadata": {},
   "source": [
    "> <strong> 001 - Revising the Select Query I -- </strong>\n",
    "<font size=2px> [Copy the Query and try it on HackerRank](https://www.hackerrank.com/challenges/revising-the-select-query/problem?isFullScreen=true)\n",
    "\n",
    "\n",
    "```sql\n",
    "\n",
    "SELECT * FROM city WHERE countrycode = 'USA' AND population > 100000;\n",
    "\n",
    "```\n",
    "---"
   ]
  },
  {
   "cell_type": "markdown",
   "metadata": {},
   "source": [
    "> <strong> 002 - Revising the Select Query II -- </strong>\n",
    "<font size=2px> [Copy the Query and try it on HackerRank](https://www.hackerrank.com/challenges/revising-the-select-query-2/problem?isFullScreen=true)\n",
    "\n",
    "\n",
    "```sql\n",
    "\n",
    "SELECT Name FROM CITY WHERE Population > 120000 AND CountryCode = 'USA';\n",
    "\n",
    "```\n",
    "---"
   ]
  },
  {
   "cell_type": "markdown",
   "metadata": {},
   "source": [
    "> <strong> 003 - Select All -- </strong>\n",
    "<font size=2px> [Copy the Query and try it on HackerRank](https://www.hackerrank.com/challenges/select-all-sql/problem?isFullScreen=true)\n",
    "\n",
    "\n",
    "```sql\n",
    "\n",
    "SELECT * FROM CITY;\n",
    "\n",
    "```\n",
    "---"
   ]
  },
  {
   "cell_type": "markdown",
   "metadata": {},
   "source": [
    "> <strong> 004 - Select By ID -- </strong>\n",
    "<font size=2px> [Copy the Query and try it on HackerRank](https://www.hackerrank.com/challenges/select-by-id/problem?isFullScreen=true)\n",
    "\n",
    "\n",
    "```sql\n",
    "\n",
    "SELECT * FROM CITY WHERE ID = 1661;\n",
    "\n",
    "```\n",
    "---"
   ]
  }
 ],
 "metadata": {
  "kernelspec": {
   "display_name": "Python 3",
   "language": "python",
   "name": "python3"
  },
  "language_info": {
   "codemirror_mode": {
    "name": "ipython",
    "version": 3
   },
   "file_extension": ".py",
   "mimetype": "text/x-python",
   "name": "python",
   "nbconvert_exporter": "python",
   "pygments_lexer": "ipython3",
   "version": "3.12.2"
  }
 },
 "nbformat": 4,
 "nbformat_minor": 2
}
